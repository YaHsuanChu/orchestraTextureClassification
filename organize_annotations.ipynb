{
 "cells": [
  {
   "cell_type": "markdown",
   "id": "ef0e2dab-c4f3-4bcb-ab84-f126276a08f3",
   "metadata": {},
   "source": [
    "## Parse .orch files and save as *.npy files*\n",
    "- *.orch files* is the annotation format provided in the [orchestral texture dataset](https://gitlab.com/algomus.fr/orchestration)\n",
    "- code in */src/* are used for parsing the annotation *.orch files*"
   ]
  },
  {
   "cell_type": "code",
   "execution_count": null,
   "id": "e57d9d55-86a6-4949-8e95-0311eb8f7fa2",
   "metadata": {},
   "outputs": [],
   "source": [
    "from src.parser import get_raw_segments\n",
    "from src.classes import ScoreAnnot \n",
    "from src.annot_types import string_to_instrument\n",
    "import pandas as pd\n",
    "import numpy as np"
   ]
  },
  {
   "cell_type": "markdown",
   "id": "98ff0fa4-68c9-41da-9014-146b532c1170",
   "metadata": {},
   "source": [
    "### Make .npy file names for each piece"
   ]
  },
  {
   "cell_type": "code",
   "execution_count": null,
   "id": "e958851f-df65-400c-93b3-cd5768e4923e",
   "metadata": {},
   "outputs": [],
   "source": [
    "meta_file = './dataset/new_metadata.csv'\n",
    "df_meta = pd.read_csv(meta_file)\n",
    "'''\n",
    "path = './dataset/annotations/'\n",
    "for piece in range(df_meta.shape[0]):\n",
    "    piece_name = df_meta['score'][piece].split('/')[-1].split('.')[0]\n",
    "    df_meta['annot_npy'][piece] = path+piece_name+'.npy'\n",
    "df_meta.to_csv(meta_file)\n",
    "'''\n",
    "print(df_meta)"
   ]
  },
  {
   "cell_type": "code",
   "execution_count": null,
   "id": "6fc025ec-4ae6-4815-8535-97f4c1fa3174",
   "metadata": {},
   "outputs": [],
   "source": [
    "def make_label_array(score: ScoreAnnot)->np.array:\n",
    "    n_inst = len(score.get_inst_list())\n",
    "    inst_list = score.get_inst_list()\n",
    "    segments = score.get_list_segments()\n",
    "\n",
    "    end = 0\n",
    "    arr = []\n",
    "    #iterate through each segment\n",
    "    for seg in segments:\n",
    "        layer_list = seg.get_list_layers()\n",
    "        role_dict = dict( (string_to_instrument(inst), None) for inst in inst_list ) # In hob103, there will be 2 VIOLIN1, but since their roles are identical, it will be fine\n",
    "        #print( 'Before editting: role_dict = ', role_dict )\n",
    "\n",
    "        # fill in the role of each instrumnet\n",
    "        for layer in layer_list:\n",
    "            role_one_hot = np.array( layer.get_role().get_role_three_bool() )\n",
    "            for inst in layer.get_ensemble().get_list_components():\n",
    "                role_dict[inst] = role_one_hot\n",
    "        #print( 'After editting: role_dict = ', role_dict )\n",
    "\n",
    "        # make the label numpy array\n",
    "        a_measure = [] #shape = (n_inst, 3)\n",
    "        for inst in inst_list:\n",
    "            inst = string_to_instrument(inst)\n",
    "            if role_dict[inst] is not None:\n",
    "                a_measure.append( role_dict[inst] )\n",
    "            else: # instrument not in any layers -> not making sound\n",
    "                a_measure.append( np.zeros(3, dtype=bool) ) # MAYBE WE CAN HANDLE IT DIFFERENTLY, NOW IT IS IDENTICAL TO role='None'\n",
    "        a_measure_arr = np.array(a_measure)\n",
    "\n",
    "        # if there is a gap (empty bars)\n",
    "        if seg.get_measure_beg() != end+1:\n",
    "            #print(f'There is a gap at {end}')\n",
    "            for i in range(end+1, seg.get_measure_beg()):\n",
    "                arr.append( np.zeros((n_inst, 3),dtype=bool ) ) #append empty labels \n",
    "        for i in range( seg.get_measure_beg(), seg.get_measure_end()+1 ):\n",
    "            arr.append( a_measure_arr )\n",
    "        end = seg.get_measure_end()\n",
    "        \n",
    "    # after iterating through all segments\n",
    "    piece_label = np.array( arr ) # shape = ( n_measures, n_inst, 3 )\n",
    "    print(piece_label.shape)\n",
    "    return piece_label"
   ]
  },
  {
   "cell_type": "markdown",
   "id": "aa22c3f2-7968-4d6d-a81e-faadc3154f24",
   "metadata": {},
   "source": [
    "### Iterate through each pieces and save the processed labels as .npy files"
   ]
  },
  {
   "cell_type": "code",
   "execution_count": null,
   "id": "732cb771-7af1-46dc-9665-ba416c1e79ce",
   "metadata": {},
   "outputs": [],
   "source": [
    "for piece in range(df_meta.shape[0]):\n",
    "\n",
    "    file_path = df_meta['annotation'][piece]\n",
    "    l = get_raw_segments(file_path)\n",
    "    score = ScoreAnnot(l)\n",
    "    piece_label = make_label_array(score)\n",
    "    np.save( df_meta['annot_npy'][piece], piece_label )"
   ]
  }
 ],
 "metadata": {
  "kernelspec": {
   "display_name": "texture",
   "language": "python",
   "name": "texture"
  },
  "language_info": {
   "codemirror_mode": {
    "name": "ipython",
    "version": 3
   },
   "file_extension": ".py",
   "mimetype": "text/x-python",
   "name": "python",
   "nbconvert_exporter": "python",
   "pygments_lexer": "ipython3",
   "version": "3.10.6"
  }
 },
 "nbformat": 4,
 "nbformat_minor": 5
}
