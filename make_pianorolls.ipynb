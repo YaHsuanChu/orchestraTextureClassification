{
 "cells": [
  {
   "cell_type": "markdown",
   "id": "f48b7e97-f2af-49e1-a47a-5d6cd7355c85",
   "metadata": {},
   "source": [
    "## Load midi files to convert to piano rolls and save as *.npz files*"
   ]
  },
  {
   "cell_type": "code",
   "execution_count": null,
   "id": "77a80eb4-da94-4e97-8f3f-1c68c0441c6e",
   "metadata": {},
   "outputs": [],
   "source": [
    "import pypianoroll \n",
    "import pandas as pd\n",
    "import os\n",
    "from src.parser import get_raw_segments\n",
    "from src.classes import ScoreAnnot\n",
    "from src.annot_types import string_to_instrument"
   ]
  },
  {
   "cell_type": "code",
   "execution_count": null,
   "id": "efd536bc-6c71-4bfa-ac8f-4d4ead52c616",
   "metadata": {},
   "outputs": [],
   "source": [
    "#metadata_file = './dataset/orch_metadata.csv'\n",
    "midi_path = './dataset/scores_midi'\n",
    "pianoroll_path = './dataset/scores_pianoroll'\n",
    "metadata_file = './dataset/new_metadata.csv'\n",
    "\n",
    "meta_df = pd.read_csv(metadata_file) \n",
    "#meta_df = meta_df.drop(12) # hob102 file is damaged\n",
    "#meta_df = meta_df.drop(range(5)) # mozart32~36 file missing \n",
    "meta_df = meta_df.set_index(pd.Index(range(len(meta_df))))\n",
    "print(meta_df)\n",
    "\n",
    "'''\n",
    "# create path to store midi saving path\n",
    "file_series = meta_df['score']\n",
    "midi_file_path = []\n",
    "pianoroll_file_path = []\n",
    "for path in file_series:\n",
    "    file_name = path.split('/')[-1].split('.')[0]\n",
    "    midi_file_path.append( os.path.join(midi_path, file_name+'.mid') )\n",
    "    pianoroll_file_path.append( os.path.join(pianoroll_path+'/'+file_name+'.npz') ) #Warning: what is file name to store an object\n",
    "\n",
    "meta_df['midi'] = pd.Series(midi_file_path)\n",
    "meta_df['pianoroll'] = pd.Series(pianoroll_file_path)\n",
    "#meta_df.to_csv(new_metadata_file)\n",
    "\n",
    "print(meta_df) #18 files left\n",
    "'''"
   ]
  },
  {
   "cell_type": "markdown",
   "id": "bb8c4731-8a8b-469d-a561-8b688c34a97a",
   "metadata": {},
   "source": [
    "### For each piece\n",
    "1. load the annotaion file to get the instrument list (in order to rename the tracks) \n",
    "2. load MIDI files with *pypianoroll* package to convert to piano rolls\n",
    "3. change names of each tracks\n",
    "4. save a track as *.npz files*"
   ]
  },
  {
   "cell_type": "code",
   "execution_count": null,
   "id": "7c5fbe22-0075-4c7f-8442-40ac885d03bb",
   "metadata": {
    "scrolled": true
   },
   "outputs": [],
   "source": [
    "for piece in range(meta_df.shape[0]):\n",
    "    midi_file = meta_df['midi'][piece]\n",
    "    annotation = meta_df['annotation'][piece]\n",
    "    score = ScoreAnnot(get_raw_segments(annotation))\n",
    "    score_inst_list = score.get_inst_list()\n",
    "    print(score_inst_list)\n",
    "    \n",
    "    if os.path.isfile(midi_file):\n",
    "        \n",
    "        # load MIDI file into pypianoroll object \n",
    "        multitrack = pypianoroll.read(midi_file)\n",
    "        multitrack = multitrack.pad(multitrack.resolution*meta_df['n_end_beat'][piece]) \n",
    "        print( len(multitrack.tracks) )\n",
    "        inst_list = [ track.name for track in multitrack.tracks ]\n",
    "        print(inst_list)\n",
    "\n",
    "        # change the name of the tracks\n",
    "        for i in range(len(multitrack.tracks)):\n",
    "            multitrack.tracks[i].name = score_inst_list[i]\n",
    "            \n",
    "        # save to npz file\n",
    "        pypianoroll.save(meta_df['pianoroll'][piece], multitrack)\n",
    "        #print('file_saved: ', meta_df['pianoroll'][piece])\n",
    "        \n",
    "    else:\n",
    "        print(f'ERROR: {midi_file} does not exist!')"
   ]
  },
  {
   "cell_type": "code",
   "execution_count": null,
   "id": "e1e83006-492f-4ec2-8a5a-db69f3ac218e",
   "metadata": {},
   "outputs": [],
   "source": []
  }
 ],
 "metadata": {
  "kernelspec": {
   "display_name": "texture",
   "language": "python",
   "name": "texture"
  },
  "language_info": {
   "codemirror_mode": {
    "name": "ipython",
    "version": 3
   },
   "file_extension": ".py",
   "mimetype": "text/x-python",
   "name": "python",
   "nbconvert_exporter": "python",
   "pygments_lexer": "ipython3",
   "version": "3.10.6"
  }
 },
 "nbformat": 4,
 "nbformat_minor": 5
}
